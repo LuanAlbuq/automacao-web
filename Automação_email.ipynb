{
 "cells": [
  {
   "cell_type": "markdown",
   "metadata": {},
   "source": [
    "# Automação Web"
   ]
  },
  {
   "cell_type": "code",
   "execution_count": 1,
   "metadata": {},
   "outputs": [],
   "source": [
    "# Importando as bibliotecas.      \n",
    "\n",
    "import pyautogui\n",
    "import time\n",
    "import pyperclip"
   ]
  },
  {
   "cell_type": "code",
   "execution_count": 60,
   "metadata": {},
   "outputs": [],
   "source": [
    "# Próximos passos irá iniciar o programa e irá baixar o arquivo excel, o qual está em um link público.\n",
    "\n",
    "pyautogui.alert('Clique em OK para iniciar, não mexa enquanto roda.')\n",
    "pyautogui.PAUSE = 1\n",
    "pyautogui.hotkey('ctrl', 't')         # Atalho para abrir uma nova aba no navegador. \n",
    "\n",
    "link = 'https://docs.google.com/spreadsheets/d/1ZmUsPS56kXG_HFAqk-gppU1iugDPuH-w/edit?usp=sharing&ouid=111280317064208959461&rtpof=true&sd=true'\n",
    "\n",
    "pyperclip.copy(link)                  # Copiando o link acima e colando na aba de pesquisa.\n",
    "\n",
    "pyautogui.hotkey('ctrl', 'v')\n",
    "pyautogui.press('enter')\n",
    "\n",
    "time.sleep(3)                         # Esperando carregar a pagina com um comando o qual fará o programa esperar 3 segundos   \n",
    "pyautogui.click(96, 127)              # para depois prosseguir.\n",
    "pyautogui.click(150, 401)\n",
    "pyautogui.click(420,402)              # <- Com esse comando ele ja estará baixando nosso arquivo, logo após o programa\n",
    "time.sleep(5)                         # vai esperar 5 segundos para que o arquivo seja instalado. "
   ]
  },
  {
   "cell_type": "code",
   "execution_count": 61,
   "metadata": {},
   "outputs": [],
   "source": [
    "# Importando pandas para ler a tabela em excel.\n",
    "\n",
    "import pandas as pd\n",
    "\n",
    "tabela = pd.read_excel(r'C:\\Users\\\"\"\"\"\\Downloads\\Vendas - Dez.xlsx')    # Aqui entre as aspas duplas você colocará seu      \n",
    "                                                                        # seu nome de usuário da sua máquina para que o \n",
    "                                                                        # pandas possa ler o arquivo.\n",
    "        \n",
    "                                   \n",
    "faturamento = tabela['Valor Final'].sum()                               # Aqui estamos calculando o tatal de faturamento     \n",
    "qtdd_produtos = tabela['Quantidade'].sum()                              # e a quantidade de produtos vendidos da nossa tabela\n",
    "                                                                        # e guardando em variáveis.   "
   ]
  },
  {
   "cell_type": "code",
   "execution_count": 62,
   "metadata": {},
   "outputs": [
    {
     "data": {
      "text/plain": [
       "'OK'"
      ]
     },
     "execution_count": 62,
     "metadata": {},
     "output_type": "execute_result"
    }
   ],
   "source": [
    "# Lido e ja feito os cálculos de faturamento e produtos vendidos.\n",
    "# Póximos passos o programa enviará o e-mail informando o total de faturamento e quantidade de produtos vendidos.     \n",
    "\n",
    "pyautogui.hotkey('ctrl', 't')\n",
    "\n",
    "# Esse link você deve alterar para o diretório de seu e-mail.\n",
    "link = ''         \n",
    "\n",
    "pyperclip.copy(link)                \n",
    "pyautogui.hotkey('ctrl', 'v')\n",
    "pyautogui.press('enter')                    \n",
    "\n",
    "time.sleep(5)\n",
    "pyautogui.click(55, 143)\n",
    "\n",
    "msg = ['usuário', 'Automação web']           # No campo usuário você deve alterar para o endereço de e-mail, o qual voçê queira                                       \n",
    "                                             # enviar o relatório.           \n",
    "time.sleep(1)\n",
    "\n",
    "\n",
    "# O loop abaixo serve para preencher os campos que determina para qual endereço de e-mail será enviado e o campo 'assunto'.           \n",
    "for num in range(2):                           \n",
    "    pyperclip.copy(msg[num])\n",
    "    pyautogui.hotkey('ctrl', 'v') \n",
    "    pyautogui.press('tab')\n",
    "    \n",
    "    if num == 0:\n",
    "        pyautogui.press('tab')\n",
    "        time.sleep(1)\n",
    "    \n",
    "\n",
    "# Essa variável será responsável de escrever o relatório.   \n",
    "msg = f''' \n",
    "Relatório:\n",
    "\n",
    "O faturamento foi de: R${faturamento:,.2f}.\n",
    "A quantidade de produtos vendidos foi de: {qtdd_produtos:,}.\n",
    "'''\n",
    "\n",
    "pyperclip.copy(msg)\n",
    "pyautogui.hotkey('ctrl', 'v')\n",
    "pyautogui.hotkey('ctrl', 'enter')       # Aqui finaliza o programa enviando o relatório.      \n",
    "\n",
    "pyautogui.alert('Finalizado.')"
   ]
  },
  {
   "cell_type": "code",
   "execution_count": null,
   "metadata": {},
   "outputs": [],
   "source": []
  }
 ],
 "metadata": {
  "kernelspec": {
   "display_name": "Python 3 (ipykernel)",
   "language": "python",
   "name": "python3"
  },
  "language_info": {
   "codemirror_mode": {
    "name": "ipython",
    "version": 3
   },
   "file_extension": ".py",
   "mimetype": "text/x-python",
   "name": "python",
   "nbconvert_exporter": "python",
   "pygments_lexer": "ipython3",
   "version": "3.9.7"
  }
 },
 "nbformat": 4,
 "nbformat_minor": 4
}
