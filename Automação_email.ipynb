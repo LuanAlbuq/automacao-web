{
 "cells": [
  {
   "cell_type": "code",
   "execution_count": 59,
   "metadata": {},
   "outputs": [],
   "source": [
    "import pyautogui\n",
    "import time\n",
    "import pyperclip\n",
    "import pandas as pd\n",
    "\n",
    "# pyautogui.mouseInfo()"
   ]
  },
  {
   "cell_type": "code",
   "execution_count": 60,
   "metadata": {},
   "outputs": [],
   "source": [
    "# Próximos passos o programa irá baixar o arquivo excel.\n",
    "\n",
    "pyautogui.alert('Clique em OK para iniciar, não mexa enquanto roda.')\n",
    "pyautogui.PAUSE = 1\n",
    "pyautogui.hotkey('ctrl', 't')\n",
    "\n",
    "link = 'https://docs.google.com/spreadsheets/d/1ZmUsPS56kXG_HFAqk-gppU1iugDPuH-w/edit?usp=sharing&ouid=111280317064208959461&rtpof=true&sd=true'\n",
    "\n",
    "pyperclip.copy(link)\n",
    "\n",
    "pyautogui.hotkey('ctrl', 'v')\n",
    "pyautogui.press('enter')\n",
    "\n",
    "time.sleep(3)\n",
    "pyautogui.click(96, 127)\n",
    "pyautogui.click(150, 401)\n",
    "pyautogui.click(420,402)\n",
    "time.sleep(5)"
   ]
  },
  {
   "cell_type": "code",
   "execution_count": 61,
   "metadata": {},
   "outputs": [],
   "source": [
    "# Importando pandas para ler a tabela em excel.\n",
    "\n",
    "tabela = pd.read_excel(r'C:\\Users\\luanc\\Downloads\\Vendas - Dez.xlsx')\n",
    "\n",
    "faturamento = tabela['Valor Final'].sum()\n",
    "qtdd_produtos = tabela['Quantidade'].sum()"
   ]
  },
  {
   "cell_type": "code",
   "execution_count": 62,
   "metadata": {},
   "outputs": [
    {
     "data": {
      "text/plain": [
       "'OK'"
      ]
     },
     "execution_count": 62,
     "metadata": {},
     "output_type": "execute_result"
    }
   ],
   "source": [
    "# Lido e ja feito os cálculos de faturamento e produtos vendidos.\n",
    "# Póximos passos o programa enviará o e-mail\n",
    "\n",
    "pyautogui.hotkey('ctrl', 't')\n",
    "\n",
    "link = 'https://mail.google.com/mail/u/1/#inbox'\n",
    "\n",
    "pyperclip.copy(link)\n",
    "pyautogui.hotkey('ctrl', 'v')\n",
    "pyautogui.press('enter')\n",
    "\n",
    "time.sleep(5)\n",
    "pyautogui.click(55, 143)\n",
    "\n",
    "msg = ['luan', 'Automação web']\n",
    "\n",
    "time.sleep(1)\n",
    "\n",
    "for num in range(2):\n",
    "    pyperclip.copy(msg[num])\n",
    "    pyautogui.hotkey('ctrl', 'v')\n",
    "    pyautogui.press('tab')\n",
    "    \n",
    "    if num == 0:\n",
    "        pyautogui.press('tab')\n",
    "        time.sleep(1)\n",
    "    \n",
    "\n",
    "msg = f'''\n",
    "Relatório do dia anterior:\n",
    "\n",
    "O faturamento foi de: R${faturamento:,.2f}.\n",
    "A quantidade de produtos vendidos foi de: {qtdd_produtos:,}.\n",
    "'''\n",
    "\n",
    "pyperclip.copy(msg)\n",
    "pyautogui.hotkey('ctrl', 'v')\n",
    "pyautogui.hotkey('ctrl', 'enter')\n",
    "\n",
    "pyautogui.alert('Finalizado.')"
   ]
  },
  {
   "cell_type": "code",
   "execution_count": null,
   "metadata": {},
   "outputs": [],
   "source": []
  }
 ],
 "metadata": {
  "kernelspec": {
   "display_name": "Python 3 (ipykernel)",
   "language": "python",
   "name": "python3"
  },
  "language_info": {
   "codemirror_mode": {
    "name": "ipython",
    "version": 3
   },
   "file_extension": ".py",
   "mimetype": "text/x-python",
   "name": "python",
   "nbconvert_exporter": "python",
   "pygments_lexer": "ipython3",
   "version": "3.9.7"
  }
 },
 "nbformat": 4,
 "nbformat_minor": 4
}
